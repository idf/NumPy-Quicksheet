{
 "cells": [
  {
   "cell_type": "code",
   "execution_count": 2,
   "metadata": {
    "collapsed": true
   },
   "outputs": [],
   "source": [
    "%matplotlib inline\n",
    "\n",
    "import matplotlib\n",
    "import numpy as np\n",
    "import matplotlib.pyplot as plt"
   ]
  },
  {
   "cell_type": "code",
   "execution_count": 3,
   "metadata": {
    "collapsed": true
   },
   "outputs": [],
   "source": [
    "def plot_func(f, label=\"\", start=-4, end=4, rate=1000):\n",
    "    plt.figure(\"f vs x\")\n",
    "    plt.ylabel(\"f\")\n",
    "    plt.xlabel(\"x\")\n",
    "    x = np.linspace(start, end, rate)\n",
    "    curve, = plt.plot(x, f(x), label=label)"
   ]
  },
  {
   "cell_type": "code",
   "execution_count": 4,
   "metadata": {
    "collapsed": false
   },
   "outputs": [
    {
     "data": {
      "image/png": "[encoded data removed]",
      "text/plain": [
       "<matplotlib.figure.Figure at 0x7fa832641f50>"
      ]
     },
     "metadata": {},
     "output_type": "display_data"
    }
   ],
   "source": [
    "plot_func(lambda x: 2*x+1)"
   ]
  },
  {
   "cell_type": "code",
   "execution_count": 5,
   "metadata": {
    "collapsed": true
   },
   "outputs": [],
   "source": [
    "def plot_mesh(W, f, sz=100):\n",
    "    nx, ny = (sz, sz)\n",
    "    x = np.linspace(0, 11, nx)\n",
    "    y = np.linspace(0, 11, ny)\n",
    "    xv, yv = np.meshgrid(x, y)\n",
    "    grid = np.zeros((nx, ny, 3))\n",
    "    for i in xrange(nx):\n",
    "        for j in xrange(ny):\n",
    "            pt = np.array([1, xv[i, j], yv[i, j]])\n",
    "            grid[i, j] = pt\n",
    "    \n",
    "    \n",
    "    predict = np.apply_along_axis(lambda x: f(W, x), 2, grid)  # 3 axes: (nx, ny, 3)\n",
    "    plt.contour(x, y, predict, colors=\"b\")\n",
    "    # plt.show()"
   ]
  },
  {
   "cell_type": "code",
   "execution_count": 10,
   "metadata": {
    "collapsed": false
   },
   "outputs": [
    {
     "data": {
      "image/png": "[encoded data removed]",
      "text/plain": [
       "<matplotlib.figure.Figure at 0x7fa826c3d810>"
      ]
     },
     "metadata": {},
     "output_type": "display_data"
    }
   ],
   "source": [
    "import warnings\n",
    "warnings.filterwarnings(\"ignore\")  # suppress FutureWarning\n",
    "\n",
    "f = lambda W, x: np.sign(W.T.dot(x))\n",
    "W = np.array([0.1, -0.2, 0.1])\n",
    "plot_mesh(W, f)"
   ]
  },
  {
   "cell_type": "code",
   "execution_count": null,
   "metadata": {
    "collapsed": true
   },
   "outputs": [],
   "source": []
  }
 ],
 "metadata": {
  "kernelspec": {
   "display_name": "Python 2",
   "language": "python",
   "name": "python2"
  },
  "language_info": {
   "codemirror_mode": {
    "name": "ipython",
    "version": 2
   },
   "file_extension": ".py",
   "mimetype": "text/x-python",
   "name": "python",
   "nbconvert_exporter": "python",
   "pygments_lexer": "ipython2",
   "version": "2.7.9"
  }
 },
 "nbformat": 4,
 "nbformat_minor": 0
}
