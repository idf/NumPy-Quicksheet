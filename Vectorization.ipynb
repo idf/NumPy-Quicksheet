{
 "cells": [
  {
   "cell_type": "code",
   "execution_count": 2,
   "metadata": {
    "collapsed": true
   },
   "outputs": [],
   "source": [
    "import numpy as np"
   ]
  },
  {
   "cell_type": "markdown",
   "metadata": {},
   "source": [
    "**Vectorization** - use a single matrix multiplication to avoid for-loop vector multiplicaions. \n",
    "\n",
    "# Axis\n",
    "![](http://i.stack.imgur.com/DL0iQ.jpg)"
   ]
  },
  {
   "cell_type": "markdown",
   "metadata": {},
   "source": [
    "# Repeat\n",
    "Repeat a vector to matrix"
   ]
  },
  {
   "cell_type": "code",
   "execution_count": 3,
   "metadata": {
    "collapsed": false
   },
   "outputs": [],
   "source": [
    "v = np.array([1, 2, 3])"
   ]
  },
  {
   "cell_type": "code",
   "execution_count": 4,
   "metadata": {
    "collapsed": false
   },
   "outputs": [
    {
     "data": {
      "text/plain": [
       "array([[1, 1, 1],\n",
       "       [2, 2, 2],\n",
       "       [3, 3, 3]])"
      ]
     },
     "execution_count": 4,
     "metadata": {},
     "output_type": "execute_result"
    }
   ],
   "source": [
    "np.repeat(v[:, np.newaxis], 3, 1)"
   ]
  },
  {
   "cell_type": "code",
   "execution_count": 6,
   "metadata": {
    "collapsed": false
   },
   "outputs": [
    {
     "data": {
      "text/plain": [
       "array([[1, 2, 3],\n",
       "       [1, 2, 3],\n",
       "       [1, 2, 3]])"
      ]
     },
     "execution_count": 6,
     "metadata": {},
     "output_type": "execute_result"
    }
   ],
   "source": [
    "np.repeat(v[np.newaxis, :], 3, 0)"
   ]
  },
  {
   "cell_type": "markdown",
   "metadata": {},
   "source": [
    "# Vectorize a Function\n",
    "Vectorize the function and then apply it directly to a Numpy array.\n",
    "\n",
    "Better to specify an explicit **output type** directly when vectorizing:\n",
    "\n",
    "```\n",
    "f = np.vectorize(f, otypes=[numpy.float])\n",
    "```"
   ]
  },
  {
   "cell_type": "code",
   "execution_count": 7,
   "metadata": {
    "collapsed": false
   },
   "outputs": [
    {
     "data": {
      "text/plain": [
       "array([ 4.,  5.,  6.])"
      ]
     },
     "execution_count": 7,
     "metadata": {},
     "output_type": "execute_result"
    }
   ],
   "source": [
    "def my_func(a):\n",
    "    \"\"\"Average first and last element of a 1-D array\"\"\"\n",
    "    return (a[0] + a[-1]) * 0.5\n",
    "b = np.array([[1,2,3], [4,5,6], [7,8,9]])\n",
    "np.apply_along_axis(my_func, 0, b)"
   ]
  },
  {
   "cell_type": "markdown",
   "metadata": {},
   "source": [
    "# Example\n",
    "## Viterbi Algorithm\n",
    "```py\n",
    "def forward(self):\n",
    "    \"\"\"\n",
    "    Forward Viterbi\n",
    "    \"\"\"\n",
    "    self._init_l()\n",
    "    for t in xrange(1, self.T):\n",
    "        for j in xrange(self.I):\n",
    "            i_op = np.argmax(self.l_op[:, t-1] + np.log(self.a[:, j]))\n",
    "            self.phi[j, t] = i_op\n",
    "            self.l_op[j, t] = (self.l_op[i_op, t-1] + np.log(self.a[i_op, j]))\n",
    "            self.l_op[j, t] += np.log(self.b[j, self.o[t]])\n",
    "```\n",
    "\n",
    "After vectorization\n",
    "\n",
    "```py\n",
    "def forward(self):\n",
    "    \"\"\"\n",
    "    Forward Viterbi\n",
    "    \"\"\"\n",
    "    self._init_l()\n",
    "    for t in xrange(1, self.T):\n",
    "        self.phi[:, t] = np.argmax(np.log(self.a) + self.l_op[:, t-1], axis=1)\n",
    "        self.l_op[:, t] = np.max(np.log(self.a) + self.l_op[:, t-1], axis=1)\n",
    "        self.l_op[:, t] += np.log(self.b[:, self.o[t]])\n",
    "```\n",
    "\n",
    "## Nearest Neighbor\n",
    "power, sum, argmin \n",
    "```py\n",
    "def predict(self, x):\n",
    "    \"\"\"\n",
    "    :param: x, the data point vector to be predicted \n",
    "    \"\"\"\n",
    "    x_mat = np.repeat(x[:, np.newaxis], self.data.T, 1)\n",
    "    dist = self.data.X - x_mat\n",
    "    dist = np.power(dist, 2)\n",
    "    dist = np.sum(dist, 0)\n",
    "    idx = np.argmin(dist)\n",
    "    return self.data.Y[idx]\n",
    "```\n",
    "\n",
    "## PCA\n",
    "Center data \n",
    "$$X = X - \\mu$$\n",
    "```py\n",
    "X = X - np.repeat(mu[:, np.newaxis], T, axis=1)\n",
    "```"
   ]
  },
  {
   "cell_type": "markdown",
   "metadata": {},
   "source": [
    "## group by class ==\n",
    "```py\n",
    "for t in xrange(T):\n",
    "    y = Y[t]\n",
    "    x = X[:, t]\n",
    "    gaussians[y].X = np.c_[gaussians[y].X, x.reshape(self.dim, 1)]\n",
    "    print t\n",
    "\n",
    "# vectorization\n",
    "for i, g in enumerate(gaussians):\n",
    "    g.X = X[:, Y==i]\n",
    "```\n",
    "\n",
    "## Prediction\n",
    "`multivariate_normal.pdf` is inheriently vectorization-friendly.\n",
    "```py\n",
    "def predict(self, X):\n",
    "    predict = np.zeros((len(self.gaussians), X.shape[1]))\n",
    "    for i, g in enumerate(self.gaussians):\n",
    "        predict[i, :] = np.log(\n",
    "            g.X.shape[1]/float(self.T)*\n",
    "            # transpose\n",
    "            multivariate_normal.pdf(X.T, g.mu, g.smoothed_Sigma).T\n",
    "        )\n",
    "\n",
    "    return np.argmax(predict, axis=0)\n",
    "```\n",
    "\n",
    "## Logistic Regression\n",
    "```py\n",
    "def first_derivative(self, X, Y, w):\n",
    "    \"\"\"\n",
    "    Calculate the 1st derivative of log-loss function\n",
    "    \"\"\"\n",
    "    d, T = X.shape\n",
    "    sigma = logistic.cdf(np.multiply(-Y, np.dot(w.T, X)))\n",
    "    ret = np.multiply(sigma, Y)\n",
    "    ret = np.multiply(np.repeat(ret[np.newaxis, :], d, axis=0), X)\n",
    "    ret = np.sum(ret, axis=1)\n",
    "    return ret\n",
    "\n",
    "def log_loss(self, X, Y, w):\n",
    "    L = np.log(logistic.cdf(np.multiply(Y, np.dot(w.T, X))))\n",
    "    L = np.sum(L)\n",
    "    L = -L\n",
    "    return L\n",
    "```"
   ]
  },
  {
   "cell_type": "code",
   "execution_count": null,
   "metadata": {
    "collapsed": true
   },
   "outputs": [],
   "source": []
  }
 ],
 "metadata": {
  "kernelspec": {
   "display_name": "Python 2",
   "language": "python",
   "name": "python2"
  },
  "language_info": {
   "codemirror_mode": {
    "name": "ipython",
    "version": 2
   },
   "file_extension": ".py",
   "mimetype": "text/x-python",
   "name": "python",
   "nbconvert_exporter": "python",
   "pygments_lexer": "ipython2",
   "version": "2.7.9"
  }
 },
 "nbformat": 4,
 "nbformat_minor": 0
}
